{
  "nbformat": 4,
  "nbformat_minor": 0,
  "metadata": {
    "colab": {
      "provenance": []
    },
    "kernelspec": {
      "name": "python3",
      "display_name": "Python 3"
    },
    "language_info": {
      "name": "python"
    }
  },
  "cells": [
    {
      "cell_type": "markdown",
      "source": [
        "Выполнила Теплякова Юлия\n",
        "Группа 6403-010302"
      ],
      "metadata": {
        "id": "7FSniE8eZFyq"
      }
    },
    {
      "cell_type": "markdown",
      "source": [
        "## Подключение библиотек"
      ],
      "metadata": {
        "id": "iWpKFXBJSsdl"
      }
    },
    {
      "cell_type": "code",
      "source": [
        "import numpy as np"
      ],
      "metadata": {
        "id": "r2mQgoO5So0h"
      },
      "execution_count": 1,
      "outputs": []
    },
    {
      "cell_type": "markdown",
      "source": [
        "# **Часть 1**"
      ],
      "metadata": {
        "id": "UxZuTP5nCSAI"
      }
    },
    {
      "cell_type": "markdown",
      "source": [
        "## Сформировать порождающую матрицу линейного кода (7, 4, 3)"
      ],
      "metadata": {
        "id": "dfPE1sVcSHyP"
      }
    },
    {
      "cell_type": "code",
      "execution_count": 2,
      "metadata": {
        "colab": {
          "base_uri": "https://localhost:8080/"
        },
        "id": "Hy0BtetQQtsu",
        "outputId": "36d19d2d-ef7a-410a-c358-d2a04f58a8d9"
      },
      "outputs": [
        {
          "output_type": "stream",
          "name": "stdout",
          "text": [
            "Порождающая матрица G:\n",
            "[[1 0 0 0 0 1 1]\n",
            " [0 1 0 0 1 0 1]\n",
            " [0 0 1 0 1 1 0]\n",
            " [0 0 0 1 1 1 1]]\n"
          ]
        }
      ],
      "source": [
        "# Размерности кода\n",
        "k = 4\n",
        "n = 7\n",
        "d = 3\n",
        "\n",
        "# 𝐺 = [𝐼𝑘|𝑋]\n",
        "# Создание единичной матрицы 𝐼𝑘\n",
        "I_k = np.eye(k, dtype=int)\n",
        "\n",
        "# Функция для генерации матрицы X\n",
        "def generate_X(k, n):\n",
        "    rows = []\n",
        "    total_columns = n - k\n",
        "\n",
        "    # Генерация всех возможных двоичных строк длины total_columns\n",
        "    for i in range(1 << total_columns):\n",
        "      row = [int(bit) for bit in bin(i)[2:].zfill(total_columns)]\n",
        "\n",
        "      if sum(row) >= 2 and row not in rows:\n",
        "        rows.append(row)\n",
        "\n",
        "      if len(rows) >= k:\n",
        "        break\n",
        "\n",
        "    return np.array(rows, dtype=int)\n",
        "\n",
        "X = generate_X(k, n)\n",
        "\n",
        "# Формирование порождающей матрицы G\n",
        "G = np.hstack((I_k, X))\n",
        "\n",
        "print(\"Порождающая матрица G:\")\n",
        "print(G)"
      ]
    },
    {
      "cell_type": "markdown",
      "source": [
        "## Сформировать проверочную матрицу на основе порождающей"
      ],
      "metadata": {
        "id": "yBfWRJdLT93A"
      }
    },
    {
      "cell_type": "code",
      "source": [
        "# Создани единичной матрицы I_{n-k}\n",
        "I_n_k = np.eye(n-k, dtype=int)\n",
        "\n",
        "# 𝐻 = [ 𝑋\n",
        "#      𝐼𝑛−𝑘]\n",
        "H = np.vstack((X, I_n_k))\n",
        "\n",
        "print(\"Проверочная матрица H:\")\n",
        "print(H)"
      ],
      "metadata": {
        "colab": {
          "base_uri": "https://localhost:8080/"
        },
        "id": "2MaGW93sUB3R",
        "outputId": "8f453028-935b-432f-e4be-920b152011c1"
      },
      "execution_count": 3,
      "outputs": [
        {
          "output_type": "stream",
          "name": "stdout",
          "text": [
            "Проверочная матрица H:\n",
            "[[0 1 1]\n",
            " [1 0 1]\n",
            " [1 1 0]\n",
            " [1 1 1]\n",
            " [1 0 0]\n",
            " [0 1 0]\n",
            " [0 0 1]]\n"
          ]
        }
      ]
    },
    {
      "cell_type": "markdown",
      "source": [
        "## Сформировать таблицу синдромов для всех однократных ошибок"
      ],
      "metadata": {
        "id": "A6pWQ1l5XvnR"
      }
    },
    {
      "cell_type": "code",
      "source": [
        "# Создание таблицы синдромов\n",
        "syndromes = {}\n",
        "for i in range(n):\n",
        "    E = np.zeros(n, dtype=int)\n",
        "    E[i] = 1\n",
        "\n",
        "    # Вычисление синдрома\n",
        "    S = (E @ H) % 2\n",
        "\n",
        "    # Сохранение синдрома в таблицу\n",
        "    syndromes[tuple(S)] = tuple(E)\n",
        "\n",
        "print(\"Таблица синдромов:\")\n",
        "for syndrome, error_vector in syndromes.items():\n",
        "  print(f\"Синдром {syndrome} -> Ошибка {error_vector}\")"
      ],
      "metadata": {
        "colab": {
          "base_uri": "https://localhost:8080/"
        },
        "id": "_zjRSfIgWmi6",
        "outputId": "f6d18c8d-eabe-4308-afc9-6397c29d5616"
      },
      "execution_count": 4,
      "outputs": [
        {
          "output_type": "stream",
          "name": "stdout",
          "text": [
            "Таблица синдромов:\n",
            "Синдром (0, 1, 1) -> Ошибка (1, 0, 0, 0, 0, 0, 0)\n",
            "Синдром (1, 0, 1) -> Ошибка (0, 1, 0, 0, 0, 0, 0)\n",
            "Синдром (1, 1, 0) -> Ошибка (0, 0, 1, 0, 0, 0, 0)\n",
            "Синдром (1, 1, 1) -> Ошибка (0, 0, 0, 1, 0, 0, 0)\n",
            "Синдром (1, 0, 0) -> Ошибка (0, 0, 0, 0, 1, 0, 0)\n",
            "Синдром (0, 1, 0) -> Ошибка (0, 0, 0, 0, 0, 1, 0)\n",
            "Синдром (0, 0, 1) -> Ошибка (0, 0, 0, 0, 0, 0, 1)\n"
          ]
        }
      ]
    },
    {
      "cell_type": "markdown",
      "source": [
        "## Сформировать кодовое слово длины n из слова длины k. Внести однократную ошибку в сформированное слово. Вычислить синдром, исправить ошибку с использованием таблицы синдромов. Убедиться в правильности полученного слова."
      ],
      "metadata": {
        "id": "29ltyrWEbInb"
      }
    },
    {
      "cell_type": "code",
      "source": [
        "# Формирование кодового слова (n) из случайного исходного слова (k)\n",
        "message = np.random.randint(0, 2, size=k)\n",
        "print(\"Исходное сообщение:\", message)\n",
        "codeword = (message @ G) % 2\n",
        "print(\"Отправлено:\", codeword)\n",
        "\n",
        "# Внесение однократной ошибки в кодовое слово\n",
        "error_position = np.random.randint(0, n)\n",
        "codeword_with_error = codeword.copy()\n",
        "codeword_with_error[error_position] ^= 1\n",
        "print(\"В ходе передачи возникла ошибка\\nПринято:\", codeword_with_error)\n",
        "\n",
        "# Вычисление синдрома\n",
        "syndrome = (codeword_with_error @ H) % 2\n",
        "print(\"Синдром:\", syndrome)\n",
        "\n",
        "# Исправление ошибки\n",
        "if tuple(syndrome) in syndromes:\n",
        "    error_vector = syndromes[tuple(syndrome)]\n",
        "    print(\"В принятом сообщении есть ошибка\\nОшибка:\", error_vector)\n",
        "\n",
        "    corrected_codeword = codeword_with_error.copy()\n",
        "    corrected_codeword[np.where(np.array(error_vector) == 1)[0]] ^= 1\n",
        "\n",
        "    # Проверка на отличие от отправленного\n",
        "    if not np.array_equal(corrected_codeword, codeword):\n",
        "        print(\"Исправленное слово отличается от отправленного.\")\n",
        "    else:\n",
        "        print(\"Исправленное слово совпадает с отправленным.\")\n",
        "else:\n",
        "    corrected_codeword = codeword_with_error\n",
        "print(\"Исправленное сообщение:\", corrected_codeword)\n",
        "\n",
        "# Декодирование исправленного кодового слова\n",
        "decoded_message = (corrected_codeword @ G.T) % 2\n",
        "print(\"Декодированное сообщение:\", decoded_message)"
      ],
      "metadata": {
        "colab": {
          "base_uri": "https://localhost:8080/"
        },
        "id": "TAmTHeuAYyNS",
        "outputId": "ce3f0852-9706-4825-a4c6-857b30a08b58"
      },
      "execution_count": 5,
      "outputs": [
        {
          "output_type": "stream",
          "name": "stdout",
          "text": [
            "Исходное сообщение: [0 1 0 0]\n",
            "Отправлено: [0 1 0 0 1 0 1]\n",
            "В ходе передачи возникла ошибка\n",
            "Принято: [0 1 0 1 1 0 1]\n",
            "Синдром: [1 1 1]\n",
            "В принятом сообщении есть ошибка\n",
            "Ошибка: (0, 0, 0, 1, 0, 0, 0)\n",
            "Исправленное слово совпадает с отправленным.\n",
            "Исправленное сообщение: [0 1 0 0 1 0 1]\n",
            "Декодированное сообщение: [1 1 1 0]\n"
          ]
        }
      ]
    },
    {
      "cell_type": "markdown",
      "source": [
        "## Сформировать кодовое слово длины n из слова длины k. Внести двукратную ошибку в сформированное слово. Вычислить синдром, исправить ошибку с использованием таблицы синдромов. Убедиться, что полученное слово отличается от отправленного"
      ],
      "metadata": {
        "id": "99Wi4WBEbHOR"
      }
    },
    {
      "cell_type": "code",
      "source": [
        "# Формирование кодового слова (n) из случайного исходного слова (k)\n",
        "message = np.random.randint(0, 2, size=k)\n",
        "print(\"Исходное сообщение:\", message)\n",
        "codeword = (message @ G) % 2\n",
        "print(\"Отправлено:\", codeword)\n",
        "\n",
        "# Внесение двукратной ошибки в кодовое слово\n",
        "error_positions = np.random.choice(n, 2, replace=False)\n",
        "error_codeword = codeword.copy()\n",
        "error_codeword[error_positions] = (error_codeword[error_positions] + 1) % 2\n",
        "print(\"В ходе передачи возникла ошибка\\nПринято:\", error_codeword)\n",
        "\n",
        "# Вычисление синдрома\n",
        "syndrome = (error_codeword @ H) % 2\n",
        "print(\"Синдром:\", syndrome)\n",
        "\n",
        "# Попытка исправить ошибку\n",
        "error_vector = syndromes.get(tuple(syndrome), None)\n",
        "if error_vector is not None:\n",
        "    print(\"В принятом сообщении есть ошибка\\nОшибка:\", error_vector)\n",
        "    corrected_codeword = error_codeword.copy()\n",
        "    corrected_codeword[np.where(error_vector)[0]] ^= 1\n",
        "    print(\"Исправленное сообщение:\", corrected_codeword)\n",
        "\n",
        "    # Проверка на отличие от отправленного\n",
        "    if not np.array_equal(corrected_codeword, codeword):\n",
        "        print(\"Исправленное слово отличается от отправленного.\")\n",
        "    else:\n",
        "        print(\"Исправленное слово совпадает с отправленным.\")\n",
        "else:\n",
        "    print(\"Ошибка не может быть исправлена.\")"
      ],
      "metadata": {
        "colab": {
          "base_uri": "https://localhost:8080/"
        },
        "id": "s_jXIMQAbVy8",
        "outputId": "cfcf5cd2-82b4-4f5f-9508-8392e72ff37d"
      },
      "execution_count": 6,
      "outputs": [
        {
          "output_type": "stream",
          "name": "stdout",
          "text": [
            "Исходное сообщение: [1 1 1 0]\n",
            "Отправлено: [1 1 1 0 0 0 0]\n",
            "В ходе передачи возникла ошибка\n",
            "Принято: [0 1 1 1 0 0 0]\n",
            "Синдром: [1 0 0]\n",
            "В принятом сообщении есть ошибка\n",
            "Ошибка: (0, 0, 0, 0, 1, 0, 0)\n",
            "Исправленное сообщение: [0 1 1 1 1 0 0]\n",
            "Исправленное слово отличается от отправленного.\n"
          ]
        }
      ]
    },
    {
      "cell_type": "markdown",
      "source": [
        "## **Часть 2**\n"
      ],
      "metadata": {
        "id": "-_hpgfdHCKc8"
      }
    },
    {
      "cell_type": "markdown",
      "source": [
        "## Сформировать порождающую матрицу линейного кода (n, k, 5)"
      ],
      "metadata": {
        "id": "nklA86dDiD2Y"
      }
    },
    {
      "cell_type": "code",
      "source": [
        "# а) было не меньше 4 единиц в каждой строке;\n",
        "# б) сумма любых двух строк содержала не менее 3 единиц;\n",
        "# в) сумма любых трёх строк содержала не менее 2 единиц;\n",
        "# г) сумма любых четырёх строк содержала не менее 1 единицы;\n",
        "\n",
        "def check_conditions(X):\n",
        "    # Проверка условия (а)\n",
        "    for row in X:\n",
        "        if np.sum(row) < 4:\n",
        "            return False\n",
        "\n",
        "    # Проверка условия (б)\n",
        "    for i in range(len(X)):\n",
        "        for j in range(i + 1, len(X)):\n",
        "            if np.sum(X[i] + X[j]) < 3:\n",
        "                return False\n",
        "\n",
        "    # Проверка условия (в)\n",
        "    for i in range(len(X)):\n",
        "        for j in range(i + 1, len(X)):\n",
        "            for k in range(j + 1, len(X)):\n",
        "                if np.sum(X[i] + X[j] + X[k]) < 2:\n",
        "                    return False\n",
        "\n",
        "    # Проверка условия (г)\n",
        "    for i in range(len(X)):\n",
        "        for j in range(i + 1, len(X)):\n",
        "            for k in range(j + 1, len(X)):\n",
        "                for l in range(k + 1, len(X)):\n",
        "                    if np.sum(X[i] + X[j] + X[k] + X[l]) < 1:\n",
        "                        return False\n",
        "\n",
        "    return True\n",
        "\n",
        "def generate_generator_matrix(n, k):\n",
        "    # Инициализация порождающей матрицы\n",
        "    G = np.zeros((k, n), dtype=int)\n",
        "\n",
        "    # Заполнение единичной матрицы\n",
        "    G[:, :k] = np.eye(k, dtype=int)\n",
        "\n",
        "    # Генерация матрицы X\n",
        "    found = False\n",
        "    while not found:\n",
        "        X = np.random.randint(0, 2, size=(k, n - k))\n",
        "        G[:, k:] = X\n",
        "\n",
        "        if check_conditions(X):\n",
        "            found = True\n",
        "\n",
        "    return G\n",
        "\n",
        "# Параметры\n",
        "n = 7\n",
        "k = 3\n",
        "\n",
        "# Генерация порождающей матрицы\n",
        "G = generate_generator_matrix(n, k)\n",
        "\n",
        "print(\"Порождающая матрица G:\")\n",
        "print(G)"
      ],
      "metadata": {
        "colab": {
          "base_uri": "https://localhost:8080/"
        },
        "id": "BoQLodSDiDFt",
        "outputId": "dc0d2617-6ac7-4157-974f-4f23ceab9ecd"
      },
      "execution_count": 16,
      "outputs": [
        {
          "output_type": "stream",
          "name": "stdout",
          "text": [
            "Порождающая матрица G:\n",
            "[[1 0 0 1 1 1 1]\n",
            " [0 1 0 1 1 1 1]\n",
            " [0 0 1 1 1 1 1]]\n"
          ]
        }
      ]
    },
    {
      "cell_type": "markdown",
      "source": [
        "## Сформировать проверочную матрицу на основе порождающей."
      ],
      "metadata": {
        "id": "mvsXvo9HjYWV"
      }
    },
    {
      "cell_type": "code",
      "source": [
        "def generate_parity_check_matrix(G):\n",
        "  X = generate_X(k, n)\n",
        "  I_n_k = np.eye(n-k, dtype=int)\n",
        "  H = np.vstack((X, I_n_k))\n",
        "\n",
        "  return H\n",
        "\n",
        "H = generate_parity_check_matrix(G)\n",
        "\n",
        "print(\"Проверочная матрица H:\")\n",
        "print(H)"
      ],
      "metadata": {
        "colab": {
          "base_uri": "https://localhost:8080/"
        },
        "id": "pcvV-5pEjYxA",
        "outputId": "7f372a17-6798-4480-b4fd-a24e1edc0654"
      },
      "execution_count": 17,
      "outputs": [
        {
          "output_type": "stream",
          "name": "stdout",
          "text": [
            "Проверочная матрица H:\n",
            "[[0 0 1 1]\n",
            " [0 1 0 1]\n",
            " [0 1 1 0]\n",
            " [1 0 0 0]\n",
            " [0 1 0 0]\n",
            " [0 0 1 0]\n",
            " [0 0 0 1]]\n"
          ]
        }
      ]
    },
    {
      "cell_type": "markdown",
      "source": [
        "## Сформировать таблицу синдромов для всех однократных и двукратных ошибок"
      ],
      "metadata": {
        "id": "Sve4WyeykM6T"
      }
    },
    {
      "cell_type": "code",
      "source": [
        "def generate_syndrome_table(H):\n",
        "    syndrome_table = {}\n",
        "\n",
        "    # Однократные ошибки\n",
        "    for i in range(n):\n",
        "        e = np.zeros(n, dtype=int)\n",
        "        e[i] = 1  # Ошибка в позиции i\n",
        "        syndrome = np.dot(e, H) % 2\n",
        "        syndrome_table[tuple(syndrome)] = f\"Ошибка на позиции {i + 1}\"\n",
        "\n",
        "    # Двукратные ошибки\n",
        "    for i in range(n):\n",
        "        for j in range(i + 1, n):\n",
        "            e = np.zeros(n, dtype=int)\n",
        "            e[i] = 1\n",
        "            e[j] = 1  # Ошибка в позициях i и j\n",
        "            syndrome = np.dot(e, H) % 2\n",
        "            syndrome_table[tuple(syndrome)] = f\"Ошибка на позиции ({i + 1}, {j + 1})\"\n",
        "\n",
        "    return syndrome_table\n",
        "\n",
        "syndrome_table = generate_syndrome_table(H)\n",
        "\n",
        "print(\"Таблица синдромов:\")\n",
        "for syndrome, error in syndrome_table.items():\n",
        "  print(f\"Синдром {syndrome} -> Ошибка {error}\")"
      ],
      "metadata": {
        "colab": {
          "base_uri": "https://localhost:8080/"
        },
        "id": "ORr3zjDbkNFB",
        "outputId": "dfc42204-f85e-44fb-a66e-1fc4c7e51a52"
      },
      "execution_count": 18,
      "outputs": [
        {
          "output_type": "stream",
          "name": "stdout",
          "text": [
            "Таблица синдромов:\n",
            "Синдром (0, 0, 1, 1) -> Ошибка Ошибка на позиции (6, 7)\n",
            "Синдром (0, 1, 0, 1) -> Ошибка Ошибка на позиции (5, 7)\n",
            "Синдром (0, 1, 1, 0) -> Ошибка Ошибка на позиции (5, 6)\n",
            "Синдром (1, 0, 0, 0) -> Ошибка Ошибка на позиции 4\n",
            "Синдром (0, 1, 0, 0) -> Ошибка Ошибка на позиции (3, 6)\n",
            "Синдром (0, 0, 1, 0) -> Ошибка Ошибка на позиции (3, 5)\n",
            "Синдром (0, 0, 0, 1) -> Ошибка Ошибка на позиции (2, 5)\n",
            "Синдром (1, 0, 1, 1) -> Ошибка Ошибка на позиции (1, 4)\n",
            "Синдром (0, 1, 1, 1) -> Ошибка Ошибка на позиции (3, 7)\n",
            "Синдром (1, 1, 0, 1) -> Ошибка Ошибка на позиции (2, 4)\n",
            "Синдром (1, 1, 1, 0) -> Ошибка Ошибка на позиции (3, 4)\n",
            "Синдром (1, 1, 0, 0) -> Ошибка Ошибка на позиции (4, 5)\n",
            "Синдром (1, 0, 1, 0) -> Ошибка Ошибка на позиции (4, 6)\n",
            "Синдром (1, 0, 0, 1) -> Ошибка Ошибка на позиции (4, 7)\n"
          ]
        }
      ]
    },
    {
      "cell_type": "markdown",
      "source": [
        "## Сформировать кодовое слово длины n из слова длины k. Внести однократную ошибку в сформированное слово. Вычислить синдром, исправить ошибку с использованием таблицы синдромов. Убедиться в правильности полученного слова."
      ],
      "metadata": {
        "id": "RNcesrZcB2RZ"
      }
    },
    {
      "cell_type": "code",
      "source": [
        "# Формирование кодового слова (n) из случайного исходного слова (k)\n",
        "message = np.random.randint(0, 2, size=k)\n",
        "print(\"Исходное сообщение:\", message)\n",
        "codeword = (message @ G) % 2\n",
        "print(\"Отправлено:\", codeword)\n",
        "\n",
        "# Внесение двукратной ошибки в кодовое слово\n",
        "error_positions = np.random.choice(n, 2, replace=False)\n",
        "error_codeword = codeword.copy()\n",
        "error_codeword[error_position] ^= 1\n",
        "print(\"В ходе передачи возникла ошибка\\nПринято:\", error_codeword)\n",
        "\n",
        "# Вычисление синдрома\n",
        "syndrome = (error_codeword @ H) % 2\n",
        "print(\"Синдром:\", syndrome)\n",
        "\n",
        "# Попытка исправить ошибку\n",
        "error_correction = syndrome_table.get(tuple(syndrome), None)\n",
        "print(error_correction)\n",
        "\n",
        "if error_correction:\n",
        "  corrected_codeword = np.copy(error_codeword)\n",
        "  corrected_codeword[error_position] ^= 1\n",
        "  print(f\"Исправленное кодовое слово: {corrected_codeword}\")\n",
        "else:\n",
        "  print(\"Ошибка не исправлена.\")\n",
        "\n",
        "# Проверка на отличие от отправленного\n",
        "if not np.array_equal(corrected_codeword, codeword):\n",
        "  print(\"Исправленное слово отличается от отправленного.\")\n",
        "else:\n",
        "  print(\"Исправленное слово совпадает с отправленным.\")"
      ],
      "metadata": {
        "colab": {
          "base_uri": "https://localhost:8080/"
        },
        "id": "9nHXufr6B2jW",
        "outputId": "0034bf37-46e4-4b0d-f61e-17c4e4e392ce"
      },
      "execution_count": 32,
      "outputs": [
        {
          "output_type": "stream",
          "name": "stdout",
          "text": [
            "Исходное сообщение: [0 1 1]\n",
            "Отправлено: [0 1 1 0 0 0 0]\n",
            "В ходе передачи возникла ошибка\n",
            "Принято: [0 1 1 0 1 0 0]\n",
            "Синдром: [0 1 1 1]\n",
            "Ошибка на позиции (3, 7)\n",
            "Исправленное кодовое слово: [0 1 1 0 0 0 0]\n",
            "Исправленное слово совпадает с отправленным.\n"
          ]
        }
      ]
    },
    {
      "cell_type": "markdown",
      "source": [
        "## Сформировать кодовое слово длины n из слова длины k. Внести двукратную ошибку в сформированное слово. Вычислить синдром, исправить ошибку с использованием таблицы синдромов. Убедиться в правильности полученного слова."
      ],
      "metadata": {
        "id": "qXZqoQuNG3no"
      }
    },
    {
      "cell_type": "code",
      "source": [
        "# Формирование кодового слова (n) из случайного исходного слова (k)\n",
        "message = np.random.randint(0, 2, size=k)\n",
        "print(\"Исходное сообщение:\", message)\n",
        "codeword = (message @ G) % 2  # формирование кодового слова\n",
        "print(\"Отправлено:\", codeword)\n",
        "\n",
        "# Внесение двукратной ошибки в кодовое слово\n",
        "error_positions = np.random.choice(n, 2, replace=False)\n",
        "error_codeword = codeword.copy()\n",
        "error_codeword[error_positions] ^= 1  # внесение ошибок\n",
        "print(\"В ходе передачи возникла ошибка\\nПринято:\", error_codeword)\n",
        "\n",
        "# Вычисление синдрома\n",
        "syndrome = (error_codeword @ H) % 2\n",
        "print(\"Синдром:\", syndrome)\n",
        "\n",
        "# Генерация таблицы синдромов\n",
        "syndrome_table = generate_syndrome_table(H)  # Убедитесь, что эта функция реализована\n",
        "\n",
        "# Попытка исправить ошибку\n",
        "error_correction = syndrome_table.get(tuple(syndrome), None)\n",
        "\n",
        "if error_correction:\n",
        "    corrected_codeword = np.copy(error_codeword)\n",
        "\n",
        "    for pos in error_positions:\n",
        "        corrected_codeword[pos] ^= 1\n",
        "    print(f\"Исправленное кодовое слово: {corrected_codeword}\")\n",
        "else:\n",
        "    print(\"Ошибка не исправлена.\")\n",
        "\n",
        "# Проверка на отличие от отправленного\n",
        "if not np.array_equal(corrected_codeword, codeword):\n",
        "    print(\"Исправленное слово отличается от отправленного.\")\n",
        "else:\n",
        "    print(\"Исправленное слово совпадает с отправленным.\")"
      ],
      "metadata": {
        "colab": {
          "base_uri": "https://localhost:8080/"
        },
        "id": "IBzueRO3G33G",
        "outputId": "1b8be3c0-16a8-46c1-aa7a-b20a289a3ce5"
      },
      "execution_count": 42,
      "outputs": [
        {
          "output_type": "stream",
          "name": "stdout",
          "text": [
            "Исходное сообщение: [1 0 1]\n",
            "Отправлено: [1 0 1 0 0 0 0]\n",
            "В ходе передачи возникла ошибка\n",
            "Принято: [0 0 1 0 0 1 0]\n",
            "Синдром: [0 1 0 0]\n",
            "Исправленное кодовое слово: [1 0 1 0 0 0 0]\n",
            "Исправленное слово совпадает с отправленным.\n"
          ]
        }
      ]
    },
    {
      "cell_type": "markdown",
      "source": [
        "## Сформировать кодовое слово длины n из слова длины k. Внести трёхкратную ошибку в сформированное слово. Вычислить синдром, исправить ошибку с использованием таблицы синдромов. Убедиться, что полученное слово отличается от отправленного."
      ],
      "metadata": {
        "id": "PLmie-soL7qt"
      }
    },
    {
      "cell_type": "code",
      "source": [
        "# Формирование кодового слова (n) из случайного исходного слова (k)\n",
        "message = np.random.randint(0, 2, size=k)\n",
        "print(\"Исходное сообщение:\", message)\n",
        "codeword = (message @ G) % 2\n",
        "print(\"Отправлено:\", codeword)\n",
        "\n",
        "# Внесение трехкратной ошибки в кодовое слово\n",
        "error_positions = np.random.choice(n, 3, replace=False)\n",
        "error_codeword = codeword.copy()\n",
        "error_codeword[error_positions] ^= 1\n",
        "print(\"В ходе передачи возникла ошибка\\nПринято:\", error_codeword)\n",
        "\n",
        "# Вычисление синдрома\n",
        "syndrome = (error_codeword @ H) % 2\n",
        "print(\"Синдром:\", syndrome)\n",
        "\n",
        "# Генерация таблицы синдромов\n",
        "syndrome_table = generate_syndrome_table(H)\n",
        "\n",
        "# Попытка исправить ошибку\n",
        "error_correction = syndrome_table.get(tuple(syndrome), None)\n",
        "\n",
        "if error_correction is not None:\n",
        "    corrected_codeword = np.copy(error_codeword)\n",
        "\n",
        "    # Убедимся, что error_correction является списком целых чисел\n",
        "    if isinstance(error_correction, list):\n",
        "        for pos in error_correction:\n",
        "            corrected_codeword[pos] ^= 1\n",
        "        print(f\"Исправленное кодовое слово: {corrected_codeword}\")\n",
        "    else:\n",
        "        print(\"Ошибка в формате данных для исправления.\")\n",
        "else:\n",
        "    print(\"Ошибка не исправлена.\")\n",
        "\n",
        "# Проверка на отличие от отправленного\n",
        "if not np.array_equal(corrected_codeword, codeword):\n",
        "    print(\"Исправленное слово отличается от отправленного.\")\n",
        "else:\n",
        "    print(\"Исправленное слово совпадает с отправленным.\")\n"
      ],
      "metadata": {
        "colab": {
          "base_uri": "https://localhost:8080/"
        },
        "id": "VHGmkHDBL8Gz",
        "outputId": "df6f2bcc-3ab1-4059-b902-8a053c228cbf"
      },
      "execution_count": 43,
      "outputs": [
        {
          "output_type": "stream",
          "name": "stdout",
          "text": [
            "Исходное сообщение: [1 0 1]\n",
            "Отправлено: [1 0 1 0 0 0 0]\n",
            "В ходе передачи возникла ошибка\n",
            "Принято: [0 1 1 0 1 0 0]\n",
            "Синдром: [0 1 1 1]\n",
            "Ошибка в формате данных для исправления.\n",
            "Исправленное слово отличается от отправленного.\n"
          ]
        }
      ]
    }
  ]
}